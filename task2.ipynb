{
 "cells": [
  {
   "cell_type": "code",
   "execution_count": 175,
   "metadata": {},
   "outputs": [
    {
     "name": "stdout",
     "output_type": "stream",
     "text": [
      "Connected to: 8.0.34-0ubuntu0.22.04.1\n",
      "You are connected to the database: ('assigment2_store_distribuerte',)\n",
      "-----------------------------------------------\n",
      "\n"
     ]
    }
   ],
   "source": [
    "from DbConnector import DbConnector\n",
    "import pandas as pd\n",
    "import numpy as np\n",
    "from datetime import timedelta\n",
    "from tqdm import tqdm\n",
    "\n",
    "connection = DbConnector()\n",
    "db_connection = connection.db_connection\n",
    "cursor = connection.cursor"
   ]
  },
  {
   "cell_type": "markdown",
   "metadata": {},
   "source": [
    "#### Task 2"
   ]
  },
  {
   "cell_type": "code",
   "execution_count": 158,
   "metadata": {},
   "outputs": [
    {
     "name": "stdout",
     "output_type": "stream",
     "text": [
      "Number of users in the dataset: 182\n",
      "Number of activities in the dataset: 16048\n",
      "Number of trackpoints in the dataset: 9681756\n"
     ]
    }
   ],
   "source": [
    "\"\"\"\n",
    "1. How many users, activities and trackpoints are there in the dataset (after it is\n",
    "inserted into the database).\n",
    "\"\"\"\n",
    "\n",
    "num_users_query = \"\"\"SELECT COUNT(*) FROM User\"\"\"\n",
    "cursor.execute(num_users_query)\n",
    "num_users = cursor.fetchone()[0]\n",
    "print(f'Number of users in the dataset: {num_users}')\n",
    "\n",
    "num_activities_query = \"\"\"SELECT COUNT(*) FROM Activity\"\"\"\n",
    "cursor.execute(num_activities_query)\n",
    "num_activities = cursor.fetchone()[0]\n",
    "print(f'Number of activities in the dataset: {num_activities}')\n",
    "\n",
    "num_trackpoints_query = \"\"\"SELECT COUNT(*) FROM TrackPoint\"\"\"\n",
    "cursor.execute(num_trackpoints_query)\n",
    "num_trackpoints = cursor.fetchone()[0]\n",
    "print(f'Number of trackpoints in the dataset: {num_trackpoints}')"
   ]
  },
  {
   "cell_type": "code",
   "execution_count": 159,
   "metadata": {},
   "outputs": [
    {
     "name": "stdout",
     "output_type": "stream",
     "text": [
      "Average number of trackpoints per user: 53196.4615\n",
      "Max number of trackpoints per user: 1010325\n",
      "Min number of trackpoints per user: 0\n"
     ]
    }
   ],
   "source": [
    "\"\"\"\n",
    "2. Find the average, maximum and minimum number of trackpoints per user.\n",
    "\"\"\"\n",
    "\n",
    "avg_max_min_per_user_query = \"\"\"\n",
    "SELECT AVG(trackpoint_count), MAX(trackpoint_count), MIN(trackpoint_count)\n",
    "FROM (\n",
    "    SELECT U.id AS user_id, COUNT(T.id) AS trackpoint_count\n",
    "    FROM User U\n",
    "    LEFT JOIN Activity A ON U.id = A.user_id\n",
    "    LEFT JOIN TrackPoint T ON A.id = T.activity_id\n",
    "    GROUP BY U.id\n",
    ") AS UserTrackpointCounts\n",
    "\"\"\"\n",
    "\n",
    "cursor.execute(avg_max_min_per_user_query)\n",
    "avg_max_min_per_user = cursor.fetchall()\n",
    "print(f'Average number of trackpoints per user: {avg_max_min_per_user[0][0]}')\n",
    "print(f'Max number of trackpoints per user: {avg_max_min_per_user[0][1]}')\n",
    "print(f'Min number of trackpoints per user: {avg_max_min_per_user[0][2]}')"
   ]
  },
  {
   "cell_type": "code",
   "execution_count": 160,
   "metadata": {},
   "outputs": [
    {
     "name": "stdout",
     "output_type": "stream",
     "text": [
      "User 128  \tActivity count 2102\n",
      "User 153  \tActivity count 1793\n",
      "User 25  \tActivity count 715\n",
      "User 163  \tActivity count 704\n",
      "User 62  \tActivity count 691\n",
      "User 144  \tActivity count 563\n",
      "User 41  \tActivity count 399\n",
      "User 85  \tActivity count 364\n",
      "User 4  \tActivity count 346\n",
      "User 140  \tActivity count 345\n",
      "User 167  \tActivity count 320\n",
      "User 68  \tActivity count 280\n",
      "User 17  \tActivity count 265\n",
      "User 3  \tActivity count 261\n",
      "User 14  \tActivity count 236\n"
     ]
    }
   ],
   "source": [
    "\"\"\"\n",
    "3. Find the top 15 users with the highest number of activities.\n",
    "\"\"\"\n",
    "\n",
    "top15_users_query = \"\"\"\n",
    "SELECT U.id, COUNT(A.id) AS ActivityCount\n",
    "FROM User U\n",
    "INNER JOIN Activity A ON U.id = A.user_id\n",
    "GROUP BY U.id\n",
    "ORDER BY ActivityCount DESC\n",
    "LIMIT 15;\n",
    "\"\"\"\n",
    "\n",
    "cursor.execute(top15_users_query)\n",
    "top15_users = cursor.fetchall()\n",
    "for users in top15_users:\n",
    "    print(f'User {users[0]}  \\tActivity count {users[1]}')"
   ]
  },
  {
   "cell_type": "code",
   "execution_count": 161,
   "metadata": {},
   "outputs": [
    {
     "name": "stdout",
     "output_type": "stream",
     "text": [
      "Bus users: ['10', '52', '62', '73', '81', '84', '85', '91', '92', '112', '125', '128', '175']\n"
     ]
    }
   ],
   "source": [
    "\"\"\"\n",
    "4. Find all users who have taken a bus.\n",
    "\"\"\"\n",
    "\n",
    "bus_users_query = \"\"\"\n",
    "SELECT U.id\n",
    "FROM User U\n",
    "INNER JOIN Activity A ON U.id = A.user_id\n",
    "WHERE A.transportation_mode = \"Bus\"\n",
    "GROUP BY U.id\n",
    "\"\"\"\n",
    "\n",
    "cursor.execute(bus_users_query)\n",
    "bus_users = cursor.fetchall()\n",
    "bussers = [user[0] for user in bus_users]\n",
    "print(f'Bus users: {bussers}')"
   ]
  },
  {
   "cell_type": "code",
   "execution_count": 162,
   "metadata": {},
   "outputs": [
    {
     "name": "stdout",
     "output_type": "stream",
     "text": [
      "User 128  Transportation mode count 10\n",
      "User 62  Transportation mode count 8\n",
      "User 85  Transportation mode count 5\n",
      "User 84  Transportation mode count 4\n",
      "User 163  Transportation mode count 4\n",
      "User 112  Transportation mode count 4\n",
      "User 81  Transportation mode count 4\n",
      "User 78  Transportation mode count 4\n",
      "User 58  Transportation mode count 4\n",
      "User 102  Transportation mode count 3\n"
     ]
    }
   ],
   "source": [
    "\"\"\"\n",
    "5. List the top 10 users by their amount of different transportation modes.\n",
    "\"\"\"\n",
    "\n",
    "nunique_transportation_mode_query = \"\"\"\n",
    "SELECT U.id, COUNT(DISTINCT A.transportation_mode) AS unique_transportation_mode\n",
    "FROM User U\n",
    "INNER JOIN Activity A on U.id = A.user_id\n",
    "GROUP BY U.id\n",
    "ORDER BY unique_transportation_mode DESC\n",
    "LIMIT 10\n",
    "\"\"\"\n",
    "\n",
    "cursor.execute(nunique_transportation_mode_query)\n",
    "nunique_transportation_mode = cursor.fetchall()\n",
    "\n",
    "for users in nunique_transportation_mode:\n",
    "    print(f'User {users[0]}  Transportation mode count {users[1]}')"
   ]
  },
  {
   "cell_type": "code",
   "execution_count": 163,
   "metadata": {},
   "outputs": [
    {
     "data": {
      "text/plain": [
       "[]"
      ]
     },
     "execution_count": 163,
     "metadata": {},
     "output_type": "execute_result"
    }
   ],
   "source": [
    "\"\"\"\n",
    "6. Find activities that are registered multiple times. You should find the query even\n",
    "if it gives zero result.\n",
    "\"\"\"\n",
    "\n",
    "duplicate_activities_query = \"\"\"\n",
    "SELECT user_id, transportation_mode, start_date_time, end_date_time, COUNT(*) AS occurrence_count\n",
    "FROM Activity\n",
    "GROUP BY user_id, transportation_mode, start_date_time, end_date_time\n",
    "HAVING COUNT(*) > 1;\n",
    "\"\"\"\n",
    "\n",
    "cursor.execute(duplicate_activities_query)\n",
    "duplicate_activities = cursor.fetchall()\n",
    "duplicate_activities"
   ]
  },
  {
   "cell_type": "code",
   "execution_count": 165,
   "metadata": {},
   "outputs": [
    {
     "name": "stderr",
     "output_type": "stream",
     "text": [
      "C:\\Users\\Jonatan\\AppData\\Local\\Temp\\ipykernel_8716\\417328831.py:10: UserWarning: pandas only supports SQLAlchemy connectable (engine/connection) or database string URI or sqlite3 DBAPI2 connection. Other DBAPI2 objects are not tested. Please consider using SQLAlchemy.\n",
      "  df = pd.read_sql_query(activity_time_query, db_connection)\n"
     ]
    },
    {
     "name": "stdout",
     "output_type": "stream",
     "text": [
      "Number of users which had activities longer than 1 day: 5\n"
     ]
    },
    {
     "data": {
      "text/html": [
       "<div>\n",
       "<style scoped>\n",
       "    .dataframe tbody tr th:only-of-type {\n",
       "        vertical-align: middle;\n",
       "    }\n",
       "\n",
       "    .dataframe tbody tr th {\n",
       "        vertical-align: top;\n",
       "    }\n",
       "\n",
       "    .dataframe thead th {\n",
       "        text-align: right;\n",
       "    }\n",
       "</style>\n",
       "<table border=\"1\" class=\"dataframe\">\n",
       "  <thead>\n",
       "    <tr style=\"text-align: right;\">\n",
       "      <th></th>\n",
       "      <th>transportation_mode</th>\n",
       "      <th>user_id</th>\n",
       "      <th>time_duration</th>\n",
       "    </tr>\n",
       "  </thead>\n",
       "  <tbody>\n",
       "    <tr>\n",
       "      <th>4914</th>\n",
       "      <td>other</td>\n",
       "      <td>144</td>\n",
       "      <td>1 days 04:28:34</td>\n",
       "    </tr>\n",
       "    <tr>\n",
       "      <th>4920</th>\n",
       "      <td>other</td>\n",
       "      <td>144</td>\n",
       "      <td>1 days 02:28:35</td>\n",
       "    </tr>\n",
       "    <tr>\n",
       "      <th>8955</th>\n",
       "      <td>other</td>\n",
       "      <td>17</td>\n",
       "      <td>1 days 00:32:16</td>\n",
       "    </tr>\n",
       "    <tr>\n",
       "      <th>10489</th>\n",
       "      <td>other</td>\n",
       "      <td>28</td>\n",
       "      <td>1 days 05:12:45</td>\n",
       "    </tr>\n",
       "    <tr>\n",
       "      <th>12831</th>\n",
       "      <td>other</td>\n",
       "      <td>51</td>\n",
       "      <td>1 days 05:01:03</td>\n",
       "    </tr>\n",
       "    <tr>\n",
       "      <th>16041</th>\n",
       "      <td>other</td>\n",
       "      <td>99</td>\n",
       "      <td>1 days 04:49:19</td>\n",
       "    </tr>\n",
       "  </tbody>\n",
       "</table>\n",
       "</div>"
      ],
      "text/plain": [
       "      transportation_mode user_id   time_duration\n",
       "4914                other     144 1 days 04:28:34\n",
       "4920                other     144 1 days 02:28:35\n",
       "8955                other      17 1 days 00:32:16\n",
       "10489               other      28 1 days 05:12:45\n",
       "12831               other      51 1 days 05:01:03\n",
       "16041               other      99 1 days 04:49:19"
      ]
     },
     "execution_count": 165,
     "metadata": {},
     "output_type": "execute_result"
    }
   ],
   "source": [
    "\"\"\"\n",
    "7. a) Find the number of users that have started an activity in one day and ended\n",
    "the activity the next day.\n",
    "\"\"\"\n",
    "\n",
    "activity_time_query = \"\"\"\n",
    "SELECT A.user_id, A.id, A.transportation_mode, A.start_date_time, A.end_date_time\n",
    "FROM User U\n",
    "INNER JOIN Activity A ON U.id = A.user_id\n",
    "\"\"\"\n",
    "\n",
    "df = pd.read_sql_query(activity_time_query, db_connection)\n",
    "df[\"time_duration\"] = df.end_date_time - df.start_date_time\n",
    "df = df[df[\"time_duration\"] >= np.timedelta64(1, 'D')]\n",
    "\n",
    "print(f'Number of users which had activities longer than 1 day: {df[\"user_id\"].nunique()}')\n",
    "\n",
    "\"\"\"\n",
    "7. b) List the transportation mode, user id and duration for these activities\n",
    "\"\"\"\n",
    "\n",
    "df[['transportation_mode', 'user_id', 'time_duration']]"
   ]
  },
  {
   "cell_type": "code",
   "execution_count": 154,
   "metadata": {},
   "outputs": [
    {
     "name": "stderr",
     "output_type": "stream",
     "text": [
      "C:\\Users\\Jonatan\\AppData\\Local\\Temp\\ipykernel_8716\\2688048494.py:11: UserWarning: pandas only supports SQLAlchemy connectable (engine/connection) or database string URI or sqlite3 DBAPI2 connection. Other DBAPI2 objects are not tested. Please consider using SQLAlchemy.\n",
      "  df = pd.read_sql_query(proximity_query, db_connection)\n"
     ]
    },
    {
     "ename": "KeyboardInterrupt",
     "evalue": "",
     "output_type": "error",
     "traceback": [
      "\u001b[1;31m---------------------------------------------------------------------------\u001b[0m",
      "\u001b[1;31mKeyboardInterrupt\u001b[0m                         Traceback (most recent call last)",
      "\u001b[1;32mc:\\Users\\Jonatan\\OneDrive\\Skrivebord\\Skole\\Skole\\NTNU\\9. Semester\\Store, distribuerte datamengder\\tdt4225\\task2.ipynb Cell 10\u001b[0m line \u001b[0;36m1\n\u001b[0;32m      <a href='vscode-notebook-cell:/c%3A/Users/Jonatan/OneDrive/Skrivebord/Skole/Skole/NTNU/9.%20Semester/Store%2C%20distribuerte%20datamengder/tdt4225/task2.ipynb#X14sZmlsZQ%3D%3D?line=0'>1</a>\u001b[0m \u001b[39m# 8. Find the number of users which have been close to each other in time and space.\u001b[39;00m\n\u001b[0;32m      <a href='vscode-notebook-cell:/c%3A/Users/Jonatan/OneDrive/Skrivebord/Skole/Skole/NTNU/9.%20Semester/Store%2C%20distribuerte%20datamengder/tdt4225/task2.ipynb#X14sZmlsZQ%3D%3D?line=1'>2</a>\u001b[0m \u001b[39m# Close is defined as the same space (50 meters) and for the same half minute (30\u001b[39;00m\n\u001b[0;32m      <a href='vscode-notebook-cell:/c%3A/Users/Jonatan/OneDrive/Skrivebord/Skole/Skole/NTNU/9.%20Semester/Store%2C%20distribuerte%20datamengder/tdt4225/task2.ipynb#X14sZmlsZQ%3D%3D?line=2'>3</a>\u001b[0m \u001b[39m# seconds)\u001b[39;00m\n\u001b[0;32m      <a href='vscode-notebook-cell:/c%3A/Users/Jonatan/OneDrive/Skrivebord/Skole/Skole/NTNU/9.%20Semester/Store%2C%20distribuerte%20datamengder/tdt4225/task2.ipynb#X14sZmlsZQ%3D%3D?line=4'>5</a>\u001b[0m proximity_query \u001b[39m=\u001b[39m \u001b[39m\"\"\"\u001b[39m\n\u001b[0;32m      <a href='vscode-notebook-cell:/c%3A/Users/Jonatan/OneDrive/Skrivebord/Skole/Skole/NTNU/9.%20Semester/Store%2C%20distribuerte%20datamengder/tdt4225/task2.ipynb#X14sZmlsZQ%3D%3D?line=5'>6</a>\u001b[0m \u001b[39mSELECT A.user_id, A.id, A.start_date_time, A.end_date_time, T.lat, T.lon\u001b[39m\n\u001b[0;32m      <a href='vscode-notebook-cell:/c%3A/Users/Jonatan/OneDrive/Skrivebord/Skole/Skole/NTNU/9.%20Semester/Store%2C%20distribuerte%20datamengder/tdt4225/task2.ipynb#X14sZmlsZQ%3D%3D?line=6'>7</a>\u001b[0m \u001b[39mFROM Activity A\u001b[39m\n\u001b[0;32m      <a href='vscode-notebook-cell:/c%3A/Users/Jonatan/OneDrive/Skrivebord/Skole/Skole/NTNU/9.%20Semester/Store%2C%20distribuerte%20datamengder/tdt4225/task2.ipynb#X14sZmlsZQ%3D%3D?line=7'>8</a>\u001b[0m \u001b[39mINNER JOIN TrackPoint T ON A.id = T.activity_id\u001b[39m\n\u001b[0;32m      <a href='vscode-notebook-cell:/c%3A/Users/Jonatan/OneDrive/Skrivebord/Skole/Skole/NTNU/9.%20Semester/Store%2C%20distribuerte%20datamengder/tdt4225/task2.ipynb#X14sZmlsZQ%3D%3D?line=8'>9</a>\u001b[0m \u001b[39m\"\"\"\u001b[39m\n\u001b[1;32m---> <a href='vscode-notebook-cell:/c%3A/Users/Jonatan/OneDrive/Skrivebord/Skole/Skole/NTNU/9.%20Semester/Store%2C%20distribuerte%20datamengder/tdt4225/task2.ipynb#X14sZmlsZQ%3D%3D?line=10'>11</a>\u001b[0m df \u001b[39m=\u001b[39m pd\u001b[39m.\u001b[39;49mread_sql_query(proximity_query, db_connection)\n\u001b[0;32m     <a href='vscode-notebook-cell:/c%3A/Users/Jonatan/OneDrive/Skrivebord/Skole/Skole/NTNU/9.%20Semester/Store%2C%20distribuerte%20datamengder/tdt4225/task2.ipynb#X14sZmlsZQ%3D%3D?line=11'>12</a>\u001b[0m df\n",
      "File \u001b[1;32mc:\\Users\\Jonatan\\AppData\\Local\\Programs\\Python\\Python39\\lib\\site-packages\\pandas\\io\\sql.py:397\u001b[0m, in \u001b[0;36mread_sql_query\u001b[1;34m(sql, con, index_col, coerce_float, params, parse_dates, chunksize, dtype)\u001b[0m\n\u001b[0;32m    339\u001b[0m \u001b[39m\u001b[39m\u001b[39m\"\"\"\u001b[39;00m\n\u001b[0;32m    340\u001b[0m \u001b[39mRead SQL query into a DataFrame.\u001b[39;00m\n\u001b[0;32m    341\u001b[0m \n\u001b[1;32m   (...)\u001b[0m\n\u001b[0;32m    394\u001b[0m \u001b[39mparameter will be converted to UTC.\u001b[39;00m\n\u001b[0;32m    395\u001b[0m \u001b[39m\"\"\"\u001b[39;00m\n\u001b[0;32m    396\u001b[0m pandas_sql \u001b[39m=\u001b[39m pandasSQL_builder(con)\n\u001b[1;32m--> 397\u001b[0m \u001b[39mreturn\u001b[39;00m pandas_sql\u001b[39m.\u001b[39;49mread_query(\n\u001b[0;32m    398\u001b[0m     sql,\n\u001b[0;32m    399\u001b[0m     index_col\u001b[39m=\u001b[39;49mindex_col,\n\u001b[0;32m    400\u001b[0m     params\u001b[39m=\u001b[39;49mparams,\n\u001b[0;32m    401\u001b[0m     coerce_float\u001b[39m=\u001b[39;49mcoerce_float,\n\u001b[0;32m    402\u001b[0m     parse_dates\u001b[39m=\u001b[39;49mparse_dates,\n\u001b[0;32m    403\u001b[0m     chunksize\u001b[39m=\u001b[39;49mchunksize,\n\u001b[0;32m    404\u001b[0m     dtype\u001b[39m=\u001b[39;49mdtype,\n\u001b[0;32m    405\u001b[0m )\n",
      "File \u001b[1;32mc:\\Users\\Jonatan\\AppData\\Local\\Programs\\Python\\Python39\\lib\\site-packages\\pandas\\io\\sql.py:2092\u001b[0m, in \u001b[0;36mSQLiteDatabase.read_query\u001b[1;34m(self, sql, index_col, coerce_float, params, parse_dates, chunksize, dtype)\u001b[0m\n\u001b[0;32m   2082\u001b[0m     \u001b[39mreturn\u001b[39;00m \u001b[39mself\u001b[39m\u001b[39m.\u001b[39m_query_iterator(\n\u001b[0;32m   2083\u001b[0m         cursor,\n\u001b[0;32m   2084\u001b[0m         chunksize,\n\u001b[1;32m   (...)\u001b[0m\n\u001b[0;32m   2089\u001b[0m         dtype\u001b[39m=\u001b[39mdtype,\n\u001b[0;32m   2090\u001b[0m     )\n\u001b[0;32m   2091\u001b[0m \u001b[39melse\u001b[39;00m:\n\u001b[1;32m-> 2092\u001b[0m     data \u001b[39m=\u001b[39m \u001b[39mself\u001b[39;49m\u001b[39m.\u001b[39;49m_fetchall_as_list(cursor)\n\u001b[0;32m   2093\u001b[0m     cursor\u001b[39m.\u001b[39mclose()\n\u001b[0;32m   2095\u001b[0m     frame \u001b[39m=\u001b[39m _wrap_result(\n\u001b[0;32m   2096\u001b[0m         data,\n\u001b[0;32m   2097\u001b[0m         columns,\n\u001b[1;32m   (...)\u001b[0m\n\u001b[0;32m   2101\u001b[0m         dtype\u001b[39m=\u001b[39mdtype,\n\u001b[0;32m   2102\u001b[0m     )\n",
      "File \u001b[1;32mc:\\Users\\Jonatan\\AppData\\Local\\Programs\\Python\\Python39\\lib\\site-packages\\pandas\\io\\sql.py:2106\u001b[0m, in \u001b[0;36mSQLiteDatabase._fetchall_as_list\u001b[1;34m(self, cur)\u001b[0m\n\u001b[0;32m   2105\u001b[0m \u001b[39mdef\u001b[39;00m \u001b[39m_fetchall_as_list\u001b[39m(\u001b[39mself\u001b[39m, cur):\n\u001b[1;32m-> 2106\u001b[0m     result \u001b[39m=\u001b[39m cur\u001b[39m.\u001b[39;49mfetchall()\n\u001b[0;32m   2107\u001b[0m     \u001b[39mif\u001b[39;00m \u001b[39mnot\u001b[39;00m \u001b[39misinstance\u001b[39m(result, \u001b[39mlist\u001b[39m):\n\u001b[0;32m   2108\u001b[0m         result \u001b[39m=\u001b[39m \u001b[39mlist\u001b[39m(result)\n",
      "File \u001b[1;32mc:\\Users\\Jonatan\\AppData\\Local\\Programs\\Python\\Python39\\lib\\site-packages\\mysql\\connector\\cursor_cext.py:613\u001b[0m, in \u001b[0;36mCMySQLCursor.fetchall\u001b[1;34m(self)\u001b[0m\n\u001b[0;32m    610\u001b[0m \u001b[39mif\u001b[39;00m \u001b[39mnot\u001b[39;00m \u001b[39mself\u001b[39m\u001b[39m.\u001b[39m_cnx\u001b[39m.\u001b[39munread_result:\n\u001b[0;32m    611\u001b[0m     \u001b[39mreturn\u001b[39;00m []\n\u001b[1;32m--> 613\u001b[0m rows: Tuple[List[RowType], Optional[CextEofPacketType]] \u001b[39m=\u001b[39m \u001b[39mself\u001b[39;49m\u001b[39m.\u001b[39;49m_cnx\u001b[39m.\u001b[39;49mget_rows()\n\u001b[0;32m    614\u001b[0m \u001b[39mif\u001b[39;00m \u001b[39mself\u001b[39m\u001b[39m.\u001b[39m_nextrow \u001b[39mand\u001b[39;00m \u001b[39mself\u001b[39m\u001b[39m.\u001b[39m_nextrow[\u001b[39m0\u001b[39m]:\n\u001b[0;32m    615\u001b[0m     rows[\u001b[39m0\u001b[39m]\u001b[39m.\u001b[39minsert(\u001b[39m0\u001b[39m, \u001b[39mself\u001b[39m\u001b[39m.\u001b[39m_nextrow[\u001b[39m0\u001b[39m])\n",
      "File \u001b[1;32mc:\\Users\\Jonatan\\AppData\\Local\\Programs\\Python\\Python39\\lib\\site-packages\\mysql\\connector\\connection_cext.py:449\u001b[0m, in \u001b[0;36mCMySQLConnection.get_rows\u001b[1;34m(self, count, binary, columns, raw, prep_stmt)\u001b[0m\n\u001b[0;32m    447\u001b[0m     \u001b[39mif\u001b[39;00m count \u001b[39mand\u001b[39;00m counter \u001b[39m==\u001b[39m count:\n\u001b[0;32m    448\u001b[0m         \u001b[39mbreak\u001b[39;00m\n\u001b[1;32m--> 449\u001b[0m     row \u001b[39m=\u001b[39m fetch_row()\n\u001b[0;32m    450\u001b[0m \u001b[39mif\u001b[39;00m \u001b[39mnot\u001b[39;00m row:\n\u001b[0;32m    451\u001b[0m     _eof: Optional[CextEofPacketType] \u001b[39m=\u001b[39m \u001b[39mself\u001b[39m\u001b[39m.\u001b[39mfetch_eof_columns(prep_stmt)[\n\u001b[0;32m    452\u001b[0m         \u001b[39m\"\u001b[39m\u001b[39meof\u001b[39m\u001b[39m\"\u001b[39m\n\u001b[0;32m    453\u001b[0m     ]  \u001b[39m# type: ignore[assignment]\u001b[39;00m\n",
      "\u001b[1;31mKeyboardInterrupt\u001b[0m: "
     ]
    }
   ],
   "source": [
    "\"\"\"\n",
    "8. Find the number of users which have been close to each other in time and space.\n",
    "Close is defined as the same space (50 meters) and for the same half minute (30\n",
    "seconds)\n",
    "\"\"\"\n",
    "\n",
    "proximity_query = \"\"\"\n",
    "SELECT A.user_id, A.id, A.start_date_time, A.end_date_time, T.lat, T.lon\n",
    "FROM Activity A\n",
    "INNER JOIN TrackPoint T ON A.id = T.activity_id\n",
    "\"\"\"\n",
    "\n",
    "df = pd.read_sql_query(proximity_query, db_connection)\n",
    "df"
   ]
  },
  {
   "cell_type": "code",
   "execution_count": null,
   "metadata": {},
   "outputs": [
    {
     "name": "stderr",
     "output_type": "stream",
     "text": [
      "  0%|          | 0/173 [03:08<?, ?it/s]\n"
     ]
    },
    {
     "ename": "KeyboardInterrupt",
     "evalue": "",
     "output_type": "error",
     "traceback": [
      "\u001b[1;31m---------------------------------------------------------------------------\u001b[0m",
      "\u001b[1;31mKeyboardInterrupt\u001b[0m                         Traceback (most recent call last)",
      "\u001b[1;32mc:\\Users\\Jonatan\\OneDrive\\Skrivebord\\Skole\\Skole\\NTNU\\9. Semester\\Store, distribuerte datamengder\\tdt4225\\task2.ipynb Cell 11\u001b[0m line \u001b[0;36m1\n\u001b[0;32m     <a href='vscode-notebook-cell:/c%3A/Users/Jonatan/OneDrive/Skrivebord/Skole/Skole/NTNU/9.%20Semester/Store%2C%20distribuerte%20datamengder/tdt4225/task2.ipynb#X20sZmlsZQ%3D%3D?line=15'>16</a>\u001b[0m \u001b[39mfor\u001b[39;00m i \u001b[39min\u001b[39;00m \u001b[39mrange\u001b[39m(\u001b[39mlen\u001b[39m(group_data)):\n\u001b[0;32m     <a href='vscode-notebook-cell:/c%3A/Users/Jonatan/OneDrive/Skrivebord/Skole/Skole/NTNU/9.%20Semester/Store%2C%20distribuerte%20datamengder/tdt4225/task2.ipynb#X20sZmlsZQ%3D%3D?line=16'>17</a>\u001b[0m     \u001b[39mfor\u001b[39;00m j \u001b[39min\u001b[39;00m \u001b[39mrange\u001b[39m(i \u001b[39m+\u001b[39m \u001b[39m1\u001b[39m, \u001b[39mlen\u001b[39m(group_data)):\n\u001b[1;32m---> <a href='vscode-notebook-cell:/c%3A/Users/Jonatan/OneDrive/Skrivebord/Skole/Skole/NTNU/9.%20Semester/Store%2C%20distribuerte%20datamengder/tdt4225/task2.ipynb#X20sZmlsZQ%3D%3D?line=17'>18</a>\u001b[0m         row1 \u001b[39m=\u001b[39m group_data\u001b[39m.\u001b[39;49miloc[i]\n\u001b[0;32m     <a href='vscode-notebook-cell:/c%3A/Users/Jonatan/OneDrive/Skrivebord/Skole/Skole/NTNU/9.%20Semester/Store%2C%20distribuerte%20datamengder/tdt4225/task2.ipynb#X20sZmlsZQ%3D%3D?line=18'>19</a>\u001b[0m         row2 \u001b[39m=\u001b[39m group_data\u001b[39m.\u001b[39miloc[j]\n\u001b[0;32m     <a href='vscode-notebook-cell:/c%3A/Users/Jonatan/OneDrive/Skrivebord/Skole/Skole/NTNU/9.%20Semester/Store%2C%20distribuerte%20datamengder/tdt4225/task2.ipynb#X20sZmlsZQ%3D%3D?line=20'>21</a>\u001b[0m         \u001b[39m# Calculate Haversine distance\u001b[39;00m\n",
      "File \u001b[1;32mc:\\Users\\Jonatan\\AppData\\Local\\Programs\\Python\\Python39\\lib\\site-packages\\pandas\\core\\indexing.py:1073\u001b[0m, in \u001b[0;36m_LocationIndexer.__getitem__\u001b[1;34m(self, key)\u001b[0m\n\u001b[0;32m   1070\u001b[0m axis \u001b[39m=\u001b[39m \u001b[39mself\u001b[39m\u001b[39m.\u001b[39maxis \u001b[39mor\u001b[39;00m \u001b[39m0\u001b[39m\n\u001b[0;32m   1072\u001b[0m maybe_callable \u001b[39m=\u001b[39m com\u001b[39m.\u001b[39mapply_if_callable(key, \u001b[39mself\u001b[39m\u001b[39m.\u001b[39mobj)\n\u001b[1;32m-> 1073\u001b[0m \u001b[39mreturn\u001b[39;00m \u001b[39mself\u001b[39;49m\u001b[39m.\u001b[39;49m_getitem_axis(maybe_callable, axis\u001b[39m=\u001b[39;49maxis)\n",
      "File \u001b[1;32mc:\\Users\\Jonatan\\AppData\\Local\\Programs\\Python\\Python39\\lib\\site-packages\\pandas\\core\\indexing.py:1610\u001b[0m, in \u001b[0;36m_iLocIndexer._getitem_axis\u001b[1;34m(self, key, axis)\u001b[0m\n\u001b[0;32m   1607\u001b[0m \u001b[39mif\u001b[39;00m \u001b[39misinstance\u001b[39m(key, \u001b[39mlist\u001b[39m):\n\u001b[0;32m   1608\u001b[0m     key \u001b[39m=\u001b[39m np\u001b[39m.\u001b[39masarray(key)\n\u001b[1;32m-> 1610\u001b[0m \u001b[39mif\u001b[39;00m com\u001b[39m.\u001b[39;49mis_bool_indexer(key):\n\u001b[0;32m   1611\u001b[0m     \u001b[39mself\u001b[39m\u001b[39m.\u001b[39m_validate_key(key, axis)\n\u001b[0;32m   1612\u001b[0m     \u001b[39mreturn\u001b[39;00m \u001b[39mself\u001b[39m\u001b[39m.\u001b[39m_getbool_axis(key, axis\u001b[39m=\u001b[39maxis)\n",
      "File \u001b[1;32mc:\\Users\\Jonatan\\AppData\\Local\\Programs\\Python\\Python39\\lib\\site-packages\\pandas\\core\\common.py:125\u001b[0m, in \u001b[0;36mis_bool_indexer\u001b[1;34m(key)\u001b[0m\n\u001b[0;32m     96\u001b[0m \u001b[39mdef\u001b[39;00m \u001b[39mis_bool_indexer\u001b[39m(key: Any) \u001b[39m-\u001b[39m\u001b[39m>\u001b[39m \u001b[39mbool\u001b[39m:\n\u001b[0;32m     97\u001b[0m \u001b[39m    \u001b[39m\u001b[39m\"\"\"\u001b[39;00m\n\u001b[0;32m     98\u001b[0m \u001b[39m    Check whether `key` is a valid boolean indexer.\u001b[39;00m\n\u001b[0;32m     99\u001b[0m \n\u001b[1;32m   (...)\u001b[0m\n\u001b[0;32m    122\u001b[0m \u001b[39m        and convert to an ndarray.\u001b[39;00m\n\u001b[0;32m    123\u001b[0m \u001b[39m    \"\"\"\u001b[39;00m\n\u001b[0;32m    124\u001b[0m     \u001b[39mif\u001b[39;00m \u001b[39misinstance\u001b[39m(key, (ABCSeries, np\u001b[39m.\u001b[39mndarray, ABCIndex)) \u001b[39mor\u001b[39;00m (\n\u001b[1;32m--> 125\u001b[0m         is_array_like(key) \u001b[39mand\u001b[39;00m is_extension_array_dtype(key\u001b[39m.\u001b[39mdtype)\n\u001b[0;32m    126\u001b[0m     ):\n\u001b[0;32m    127\u001b[0m         \u001b[39mif\u001b[39;00m key\u001b[39m.\u001b[39mdtype \u001b[39m==\u001b[39m np\u001b[39m.\u001b[39mobject_:\n\u001b[0;32m    128\u001b[0m             key_array \u001b[39m=\u001b[39m np\u001b[39m.\u001b[39masarray(key)\n",
      "\u001b[1;31mKeyboardInterrupt\u001b[0m: "
     ]
    }
   ],
   "source": [
    "# Precompute constants\n",
    "R = 6371000\n",
    "lat_rad = np.radians(df['lat'])\n",
    "lon_rad = np.radians(df['lon'])\n",
    "time_threshold = timedelta(seconds=30)\n",
    "distance_threshold = 50\n",
    "\n",
    "user_pairs = []\n",
    "\n",
    "# Group data by user_id\n",
    "grouped = df.groupby('user_id')\n",
    "\n",
    "# Iterate through each group (user)\n",
    "for user_id, group_data in tqdm(grouped):\n",
    "    # Iterate through rows in the group\n",
    "    for i in range(len(group_data)):\n",
    "        for j in range(i + 1, len(group_data)):\n",
    "            row1 = group_data.iloc[i]\n",
    "            row2 = group_data.iloc[j]\n",
    "\n",
    "            # Calculate Haversine distance\n",
    "            dlat = lat_rad[j] - lat_rad[i]\n",
    "            dlon = lon_rad[j] - lon_rad[i]\n",
    "            a = np.sin(dlat / 2.0) ** 2 + np.cos(lat_rad[i]) * np.cos(lat_rad[j]) * np.sin(dlon / 2.0) ** 2\n",
    "            c = 2 * np.arctan2(np.sqrt(a), np.sqrt(1 - a))\n",
    "            meters = R * c\n",
    "\n",
    "            # Calculate time difference\n",
    "            time_diff = row2['start_date_time'] - row1['start_date_time']\n",
    "\n",
    "            # Check criteria (30 seconds and 50 meters)\n",
    "            if time_diff <= time_threshold and meters <= distance_threshold:\n",
    "                user_pairs.append((user_id, row1['id'], row2['id']))\n",
    "\n",
    "# Convert the result to a DataFrame\n",
    "result_df = pd.DataFrame(user_pairs, columns=['user_id', 'id1', 'id2'])\n",
    "\n",
    "result_df"
   ]
  },
  {
   "cell_type": "code",
   "execution_count": 166,
   "metadata": {},
   "outputs": [
    {
     "name": "stdout",
     "output_type": "stream",
     "text": [
      "User 128  \tAltitude gained: 688280.7672m\n",
      "User 153  \tAltitude gained: 675336.5208m\n",
      "User 4  \tAltitude gained: 357835.5048m\n",
      "User 41  \tAltitude gained: 280401.9792m\n",
      "User 62  \tAltitude gained: 258156.1512m\n",
      "User 3  \tAltitude gained: 249477.2760m\n",
      "User 163  \tAltitude gained: 246217.7448m\n",
      "User 85  \tAltitude gained: 239366.4504m\n",
      "User 144  \tAltitude gained: 224671.4328m\n",
      "User 30  \tAltitude gained: 183820.0032m\n",
      "User 39  \tAltitude gained: 161123.3760m\n",
      "User 25  \tAltitude gained: 149747.9352m\n",
      "User 84  \tAltitude gained: 145680.6840m\n",
      "User 167  \tAltitude gained: 130406.5464m\n",
      "User 0  \tAltitude gained: 130186.1760m\n"
     ]
    }
   ],
   "source": [
    "\"\"\"\n",
    "9. Find the top 15 users who have gained the most altitude meters.\n",
    "\"\"\"\n",
    "\n",
    "altitude_gainers_query = \"\"\"\n",
    "SELECT Activity.user_id, SUM(gained_altitude_activity) * 0.3048 AS gained_altitude_total\n",
    "FROM (\n",
    "    SELECT TrackPoint.activity_id AS activity_id,\n",
    "        GREATEST(TrackPoint.altitude - LAG(TrackPoint.altitude) OVER (ORDER BY TrackPoint.id), 0) AS gained_altitude_activity\n",
    "    FROM TrackPoint\n",
    "    WHERE altitude != -777\n",
    ") AS t\n",
    "LEFT JOIN Activity ON (t.activity_id = Activity.id)\n",
    "GROUP BY Activity.user_id\n",
    "ORDER BY gained_altitude_total DESC\n",
    "LIMIT 15;\n",
    "\"\"\"\n",
    "\n",
    "cursor.execute(altitude_gainers_query)\n",
    "altitude_gainers = cursor.fetchall()\n",
    "\n",
    "for users in altitude_gainers:\n",
    "    print(f'User {users[0]}  \\tAltitude gained: {users[1]}m')"
   ]
  },
  {
   "cell_type": "code",
   "execution_count": 167,
   "metadata": {},
   "outputs": [
    {
     "name": "stderr",
     "output_type": "stream",
     "text": [
      "C:\\Users\\Jonatan\\AppData\\Local\\Temp\\ipykernel_8716\\3338472784.py:19: UserWarning: pandas only supports SQLAlchemy connectable (engine/connection) or database string URI or sqlite3 DBAPI2 connection. Other DBAPI2 objects are not tested. Please consider using SQLAlchemy.\n",
      "  df = pd.read_sql_query(activity_time_query, db_connection)\n"
     ]
    },
    {
     "data": {
      "text/html": [
       "<div>\n",
       "<style scoped>\n",
       "    .dataframe tbody tr th:only-of-type {\n",
       "        vertical-align: middle;\n",
       "    }\n",
       "\n",
       "    .dataframe tbody tr th {\n",
       "        vertical-align: top;\n",
       "    }\n",
       "\n",
       "    .dataframe thead th {\n",
       "        text-align: right;\n",
       "    }\n",
       "</style>\n",
       "<table border=\"1\" class=\"dataframe\">\n",
       "  <thead>\n",
       "    <tr style=\"text-align: right;\">\n",
       "      <th></th>\n",
       "      <th>user_id</th>\n",
       "      <th>transportation_mode</th>\n",
       "      <th>distance</th>\n",
       "    </tr>\n",
       "  </thead>\n",
       "  <tbody>\n",
       "    <tr>\n",
       "      <th>4736</th>\n",
       "      <td>142</td>\n",
       "      <td>other</td>\n",
       "      <td>8.688100e+06</td>\n",
       "    </tr>\n",
       "    <tr>\n",
       "      <th>2343</th>\n",
       "      <td>128</td>\n",
       "      <td>airplane</td>\n",
       "      <td>4.307009e+06</td>\n",
       "    </tr>\n",
       "    <tr>\n",
       "      <th>13320</th>\n",
       "      <td>62</td>\n",
       "      <td>train</td>\n",
       "      <td>2.553725e+05</td>\n",
       "    </tr>\n",
       "    <tr>\n",
       "      <th>2030</th>\n",
       "      <td>128</td>\n",
       "      <td>car</td>\n",
       "      <td>2.090882e+05</td>\n",
       "    </tr>\n",
       "    <tr>\n",
       "      <th>2273</th>\n",
       "      <td>128</td>\n",
       "      <td>bus</td>\n",
       "      <td>1.469377e+05</td>\n",
       "    </tr>\n",
       "    <tr>\n",
       "      <th>2137</th>\n",
       "      <td>128</td>\n",
       "      <td>boat</td>\n",
       "      <td>6.061358e+04</td>\n",
       "    </tr>\n",
       "    <tr>\n",
       "      <th>1874</th>\n",
       "      <td>128</td>\n",
       "      <td>bike</td>\n",
       "      <td>3.474795e+04</td>\n",
       "    </tr>\n",
       "    <tr>\n",
       "      <th>583</th>\n",
       "      <td>108</td>\n",
       "      <td>walk</td>\n",
       "      <td>2.219934e+04</td>\n",
       "    </tr>\n",
       "    <tr>\n",
       "      <th>2327</th>\n",
       "      <td>128</td>\n",
       "      <td>taxi</td>\n",
       "      <td>1.995376e+04</td>\n",
       "    </tr>\n",
       "    <tr>\n",
       "      <th>2089</th>\n",
       "      <td>128</td>\n",
       "      <td>subway</td>\n",
       "      <td>1.604496e+04</td>\n",
       "    </tr>\n",
       "    <tr>\n",
       "      <th>13318</th>\n",
       "      <td>62</td>\n",
       "      <td>run</td>\n",
       "      <td>1.818943e+01</td>\n",
       "    </tr>\n",
       "  </tbody>\n",
       "</table>\n",
       "</div>"
      ],
      "text/plain": [
       "      user_id transportation_mode      distance\n",
       "4736      142               other  8.688100e+06\n",
       "2343      128            airplane  4.307009e+06\n",
       "13320      62               train  2.553725e+05\n",
       "2030      128                 car  2.090882e+05\n",
       "2273      128                 bus  1.469377e+05\n",
       "2137      128                boat  6.061358e+04\n",
       "1874      128                bike  3.474795e+04\n",
       "583       108                walk  2.219934e+04\n",
       "2327      128                taxi  1.995376e+04\n",
       "2089      128              subway  1.604496e+04\n",
       "13318      62                 run  1.818943e+01"
      ]
     },
     "execution_count": 167,
     "metadata": {},
     "output_type": "execute_result"
    }
   ],
   "source": [
    "\"\"\"\n",
    "10.Find the users that have traveled the longest total distance in one day for each\n",
    "transportation mode.\n",
    "\"\"\"\n",
    "\n",
    "activity_time_query = \"\"\"\n",
    "SELECT A.user_id, A.id, A.transportation_mode, A.start_date_time, A.end_date_time, T.lat, T.lon\n",
    "FROM Activity A\n",
    "INNER JOIN TrackPoint T ON A.id = T.activity_id\n",
    "\"\"\"\n",
    "\n",
    "def haversine(lat1, lon1, lat2, lon2):\n",
    "    R = 6371000  # Radius of the Earth in meters\n",
    "    lat1, lon1, lat2, lon2 = map(np.radians, [lat1, lon1, lat2, lon2])\n",
    "    dlat = lat2 - lat1\n",
    "    dlon = lon2 - lon1\n",
    "    a = np.sin(dlat/2.0)**2 + np.cos(lat1) * np.cos(lat2) * np.sin(dlon/2.0)**2\n",
    "    c = 2 * np.arctan2(np.sqrt(a), np.sqrt(1-a))\n",
    "    meters = R * c\n",
    "    return meters\n",
    "\n",
    "df = pd.read_sql_query(activity_time_query, db_connection)\n",
    "df[\"time_duration\"] = df.end_date_time - df.start_date_time\n",
    "df = df[df[\"time_duration\"] <= np.timedelta64(1, 'D')]\n",
    "\n",
    "df.sort_values(by=['user_id', 'id', 'start_date_time'], inplace=True)\n",
    "grouped = df.groupby(['user_id', 'id', 'transportation_mode'])\n",
    "result_df = grouped.apply(lambda group: haversine(\n",
    "    group['lat'].iloc[0],\n",
    "    group['lon'].iloc[0],\n",
    "    group['lat'].iloc[-1],\n",
    "    group['lon'].iloc[-1]\n",
    ")).reset_index(name='distance')\n",
    "result_df\n",
    "\n",
    "max_distance_idx = result_df.groupby(['transportation_mode'])['distance'].idxmax()\n",
    "max_distances = result_df.loc[max_distance_idx, ['user_id', 'transportation_mode', 'distance']].sort_values(by=\"distance\", ascending=False)\n",
    "max_distances"
   ]
  },
  {
   "cell_type": "code",
   "execution_count": 194,
   "metadata": {},
   "outputs": [
    {
     "name": "stderr",
     "output_type": "stream",
     "text": [
      "C:\\Users\\Jonatan\\AppData\\Local\\Temp\\ipykernel_8716\\703956840.py:12: UserWarning: pandas only supports SQLAlchemy connectable (engine/connection) or database string URI or sqlite3 DBAPI2 connection. Other DBAPI2 objects are not tested. Please consider using SQLAlchemy.\n",
      "  invalid = pd.read_sql_query(invalid_query, db_connection)\n"
     ]
    },
    {
     "data": {
      "text/html": [
       "<div>\n",
       "<style scoped>\n",
       "    .dataframe tbody tr th:only-of-type {\n",
       "        vertical-align: middle;\n",
       "    }\n",
       "\n",
       "    .dataframe tbody tr th {\n",
       "        vertical-align: top;\n",
       "    }\n",
       "\n",
       "    .dataframe thead th {\n",
       "        text-align: right;\n",
       "    }\n",
       "</style>\n",
       "<table border=\"1\" class=\"dataframe\">\n",
       "  <thead>\n",
       "    <tr style=\"text-align: right;\">\n",
       "      <th></th>\n",
       "      <th>user_id</th>\n",
       "      <th>id</th>\n",
       "    </tr>\n",
       "  </thead>\n",
       "  <tbody>\n",
       "    <tr>\n",
       "      <th>0</th>\n",
       "      <td>0</td>\n",
       "      <td>101</td>\n",
       "    </tr>\n",
       "    <tr>\n",
       "      <th>1</th>\n",
       "      <td>1</td>\n",
       "      <td>45</td>\n",
       "    </tr>\n",
       "    <tr>\n",
       "      <th>2</th>\n",
       "      <td>10</td>\n",
       "      <td>50</td>\n",
       "    </tr>\n",
       "    <tr>\n",
       "      <th>3</th>\n",
       "      <td>100</td>\n",
       "      <td>3</td>\n",
       "    </tr>\n",
       "    <tr>\n",
       "      <th>4</th>\n",
       "      <td>101</td>\n",
       "      <td>46</td>\n",
       "    </tr>\n",
       "    <tr>\n",
       "      <th>...</th>\n",
       "      <td>...</td>\n",
       "      <td>...</td>\n",
       "    </tr>\n",
       "    <tr>\n",
       "      <th>166</th>\n",
       "      <td>95</td>\n",
       "      <td>4</td>\n",
       "    </tr>\n",
       "    <tr>\n",
       "      <th>167</th>\n",
       "      <td>96</td>\n",
       "      <td>35</td>\n",
       "    </tr>\n",
       "    <tr>\n",
       "      <th>168</th>\n",
       "      <td>97</td>\n",
       "      <td>14</td>\n",
       "    </tr>\n",
       "    <tr>\n",
       "      <th>169</th>\n",
       "      <td>98</td>\n",
       "      <td>5</td>\n",
       "    </tr>\n",
       "    <tr>\n",
       "      <th>170</th>\n",
       "      <td>99</td>\n",
       "      <td>11</td>\n",
       "    </tr>\n",
       "  </tbody>\n",
       "</table>\n",
       "<p>171 rows × 2 columns</p>\n",
       "</div>"
      ],
      "text/plain": [
       "    user_id   id\n",
       "0         0  101\n",
       "1         1   45\n",
       "2        10   50\n",
       "3       100    3\n",
       "4       101   46\n",
       "..      ...  ...\n",
       "166      95    4\n",
       "167      96   35\n",
       "168      97   14\n",
       "169      98    5\n",
       "170      99   11\n",
       "\n",
       "[171 rows x 2 columns]"
      ]
     },
     "metadata": {},
     "output_type": "display_data"
    }
   ],
   "source": [
    "\"\"\"\n",
    "11.Find all users who have invalid activities, and the number of invalid activities per\n",
    "# user\n",
    "\n",
    "An invalid activity is defined as an activity with consecutive trackpoints\n",
    " where the timestamps deviate with at least 5 minutes.\n",
    "\"\"\"\n",
    "\n",
    "invalid_query = \"\"\"\n",
    "SELECT user_id, id, dt, diff_seconds\n",
    "FROM (\n",
    "    SELECT A.user_id, A.id, T.date_time AS dt,\n",
    "        TIMESTAMPDIFF(SECOND, lag(T.date_time) OVER (PARTITION BY T.activity_id ORDER BY T.date_time), T.date_time) AS diff_seconds\n",
    "    FROM Activity A\n",
    "    INNER JOIN TrackPoint T ON A.id = T.activity_id\n",
    ") AS subquery\n",
    "WHERE diff_seconds > 300;\n",
    "\"\"\"\n",
    "\n",
    "invalid = pd.read_sql_query(invalid_query, db_connection)\n",
    "display(invalid.groupby(['user_id'])['id'].nunique().reset_index().sort_values(by='user_id'))"
   ]
  },
  {
   "cell_type": "code",
   "execution_count": null,
   "metadata": {},
   "outputs": [],
   "source": [
    "\"\"\"\n",
    "12.Find all users who have registered transportation_mode and their most used\n",
    "transportation_mode.\n",
    "    - The answer should be on format (user_id,most_used_transportation_mode) sorted on user_id.\n",
    "    - Some users may have the same number of activities tagged with e.g. walk \n",
    "    and car. In this case it is up to you to decide which transportation mode\n",
    "    to include in your answer (choose one)\n",
    "    - Do not count the rows where the mode is null.\n",
    "\"\"\"\n"
   ]
  }
 ],
 "metadata": {
  "kernelspec": {
   "display_name": "Python 3",
   "language": "python",
   "name": "python3"
  },
  "language_info": {
   "codemirror_mode": {
    "name": "ipython",
    "version": 3
   },
   "file_extension": ".py",
   "mimetype": "text/x-python",
   "name": "python",
   "nbconvert_exporter": "python",
   "pygments_lexer": "ipython3",
   "version": "3.9.13"
  },
  "orig_nbformat": 4
 },
 "nbformat": 4,
 "nbformat_minor": 2
}
